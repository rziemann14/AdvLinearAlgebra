{
  "nbformat": 4,
  "nbformat_minor": 0,
  "metadata": {
    "colab": {
      "name": "Project 1:  Tangent vectors and transformations ",
      "provenance": [],
      "collapsed_sections": [],
      "include_colab_link": true
    },
    "kernelspec": {
      "name": "python3",
      "display_name": "Python 3"
    }
  },
  "cells": [
    {
      "cell_type": "markdown",
      "metadata": {
        "id": "view-in-github",
        "colab_type": "text"
      },
      "source": [
        "<a href=\"https://colab.research.google.com/github/rziemann14/AdvLinearAlgebra/blob/master/Project_1_Tangent_vectors_and_transformations.ipynb\" target=\"_parent\"><img src=\"https://colab.research.google.com/assets/colab-badge.svg\" alt=\"Open In Colab\"/></a>"
      ]
    },
    {
      "cell_type": "markdown",
      "metadata": {
        "id": "57j2zq31_0qa",
        "colab_type": "text"
      },
      "source": [
        "# Project 1:  Tangent vectors and transformations"
      ]
    },
    {
      "cell_type": "markdown",
      "metadata": {
        "colab_type": "text",
        "id": "g9sxRj-VBZqd"
      },
      "source": [
        "For this project, we'll look at the transformations arising from each of the matrices below:\n",
        "\n",
        "$$ A = \\left( \\begin{array}{ccc} 0 & -1 & 0 \\\\ 1 & 0 & 0 \\\\ 0 & 0 & 0 \\\\ \\end{array} \\right) \\hspace{2cm}\n",
        "B = \\left( \\begin{array}{ccc} 0 & 0 & 0 \\\\ 0 & 0 & -1 \\\\ 0 & 1 & 0 \\\\ \\end{array} \\right) \\hspace{2cm}\n",
        "C = \\left( \\begin{array}{ccc} 0 & 0 & 1 \\\\ 0 & 0 & 0 \\\\ -1 & 0 & 0 \\\\ \\end{array} \\right) \\hspace{2cm}\n",
        "$$\n",
        "\n",
        "The computational part of this project involves the following steps:\n",
        "\n",
        "1.  The columns of a matrix tell us what happens to the basis vectors in a vector space.  Explain what matrices $A$, $B$, and $C$ do to the standard basis elements for $\\mathbb{R}^3$.  (Note:  Bonus points for creating a graph showing what happens to each basis vector.  e.g. For A, the initial vector $e_1$ is sent in the direction $(0, 1, 0)$, so draw an arrow from $(1, 0, 0)$ to $(1, 1, 0)$. )\n",
        "\n",
        "2.  Compute $exp(t\\,A), exp(t\\,B)$, and $exp(t\\,C)$ for each matrix, which is defined as\n",
        "  $$ exp(M) = I_n + M + \\frac{1}{2!} M^2 + \\frac{1}{3!} M^3 + \\cdots + \\frac{1}{m!} M^m + \\cdots $$\n",
        "\n",
        "  To do this, separately compute $$(Mt)^0, (Mt)^1, (Mt)^2, (Mt)^3, (Mt)^4, (Mt)^5, (Mt)^6$$ and combine them to form the first several terms of $exp(Mt)$ for each of your three matrices.\n",
        "\n",
        "  \n",
        "3.  We can think of each of the $3 \\times 3$ matrices in part 2 as maps, or transformations $\\gamma: \\mathbb{R} \\to \\mathbb{M}_{3\\times3}$, which depending on $t$ and which act on the space $\\mathbb{R}^3$:\n",
        "\n",
        "$$ \\gamma_A(t) = exp(t\\,A) \\hspace{2cm} \\gamma_B(t) = exp(t\\, B) \\hspace{2cm} \\gamma_C(t) = exp(t\\,C)$$\n",
        "What do each of these matrices do to the space $\\mathbb{R}^3$?\n",
        "\n",
        "4.  What causes more rotation, $\\gamma_A(t) \\circ \\gamma_A(t)$ or  $\\gamma_A(2t)$?\n",
        "\n",
        "5. If we pick two of the transformations, say $\\gamma_A(t)$ and $\\gamma_B(t)$, and then apply them like so:\n",
        "$$  Q = \\gamma_B(-t) \\circ \\gamma_A(-t) \\circ \\gamma_B(t) \\circ \\gamma_A(t)$$\n",
        "the result is <b>not necessarily</b> the identity transformation!  Find this transformation $Q$ and describe what it does to $\\mathbb{R}^3$.\n",
        "\n",
        "6.  A tangent vector is found by taking a derivative (with respect to $t$) and evaluating that derivative (at $t = 0$).  Find the tangent vector of:\n",
        "\n",
        "$$  \\gamma_A(t)  \\hspace{2cm}  \\gamma_B(t) \\hspace{2cm}  \\gamma_C(t) \\hspace{2cm} Q$$\n",
        "\n",
        "** Note 1:  The `sym.diff(M, t)` code will take the derivative of matrix $M$ with respect to variable $t$.  Then, evaluate the result with $t=0$.\n",
        "\n",
        "** Note 2: The tangent vector of $Q$ will be the 0 matrix; In this case, use the second derivative of $Q$ to form the tangent vector.\n",
        "\n",
        "\n",
        "\n",
        "7.  Compute the product $[ A, B ] = AB - BA$.  Compare this result to the tangent vectors in the previous problem.\n"
      ]
    },
    {
      "cell_type": "markdown",
      "metadata": {
        "id": "0nfOKjAOHMul",
        "colab_type": "text"
      },
      "source": [
        "# Code\n",
        "Put your code in this section. \n",
        "We'll use the package sympy to do symbolic computations in our code.\n",
        "\n",
        "Be sure to write comments in your code.\n",
        "Comments start with # symbols.\n",
        "\n",
        "Lastly, create an organization for your code.  (This organization is up to you!  )"
      ]
    },
    {
      "cell_type": "code",
      "metadata": {
        "id": "dNAjzxLD2rlL",
        "colab_type": "code",
        "outputId": "0d9827ff-0c5e-4be2-e386-298f3a1585e1",
        "colab": {
          "base_uri": "https://localhost:8080/",
          "height": 34
        }
      },
      "source": [
        "import matplotlib.pyplot as plt\n",
        "import sympy as sym\n",
        "\n",
        "\n",
        "# Comments start with a hash mark.\n",
        "\n",
        "# We'll specify that x and t are variables:\n",
        "x, t = sym.symbols('x, t')\n",
        "\n",
        "# this is a expression:\n",
        "expr = (x + t)**2\n",
        "\n",
        "# Use 'sym.latex(...) to produce the math expression in latex.  \n",
        "# Then, copy and paste the latex into a text field \n",
        "# Put it inside single dollar signs $ ... $ to typeset the mathematics inline,\n",
        "# or inside double dollar signs $$ ... $$ to center the math on its own line. \n",
        "sym.latex(expr.expand())\n",
        "\n",
        "# How to create a matrix S:\n",
        "S = sym.Matrix([[0, 1, 0], [1, 0, 0], [0, 0, 1]])\n",
        "# or a 3x3 identity matrix:\n",
        "I3 = sym.eye(3)\n",
        "\n",
        "# How to multiply the matrix S by the variable t:\n",
        "St = S*t\n",
        "\n",
        "sym.diff((S*t)**3,t)\n",
        "\n",
        "# How to output the latex so the matrix looks nice:\n",
        "print(sym.latex(St))\n",
        "\n"
      ],
      "execution_count": 1,
      "outputs": [
        {
          "output_type": "stream",
          "text": [
            "\\left[\\begin{matrix}0 & t & 0\\\\t & 0 & 0\\\\0 & 0 & t\\end{matrix}\\right]\n"
          ],
          "name": "stdout"
        }
      ]
    },
    {
      "cell_type": "code",
      "metadata": {
        "id": "f6Vk1I1vXbHA",
        "colab_type": "code",
        "colab": {}
      },
      "source": [
        ""
      ],
      "execution_count": 0,
      "outputs": []
    },
    {
      "cell_type": "code",
      "metadata": {
        "id": "FPY8GrNQE-Jh",
        "colab_type": "code",
        "outputId": "0cf2bf0a-8c38-46f4-c9a5-e499df914d7d",
        "colab": {
          "base_uri": "https://localhost:8080/",
          "height": 84
        }
      },
      "source": [
        "#Define Maps\n",
        "\n",
        "A = sym.Matrix([[sym.cos(t),sym.sin(-t),0],[sym.sin(t),sym.cos(t),0], [0,0,1]])\\\n",
        "\n",
        "Aa = sym.Matrix([[sym.cos(-t),sym.sin(t),0],[sym.sin(-t),sym.cos(-t),0], [0,0,1]])\\\n",
        "\n",
        "B = sym.Matrix([[1,0,0],[0,sym.cos(t),sym.sin(-t)], [0,sym.sin(t),sym.cos(t)]])\\\n",
        "\n",
        "Bb = sym.Matrix([[1,0,0],[0,sym.cos(-t),sym.sin(t)], [0,sym.sin(-t),sym.cos(-t)]])\\\n",
        "\n",
        "C = sym.Matrix([[sym.cos(t), 0, sym.sin(t)],[0,1,0], [sym.sin(-t), 0, sym.cos(t)]])\\\n",
        "\n",
        "Q = Bb*Aa*B*A\n",
        "W = sym.trigsimp(Q)\n",
        "Y = sym.diff(Q,t)\n",
        "J = sym.diff(Y,t)\n",
        "sym.trigsimp(J)\n",
        "\n",
        "W"
      ],
      "execution_count": 4,
      "outputs": [
        {
          "output_type": "execute_result",
          "data": {
            "text/plain": [
              "Matrix([\n",
              "[         (sin(t)**2 + cos(t))*cos(t),            (cos(t) - 1)*sin(t)*cos(t),                  -sin(t)**2],\n",
              "[(2*sin(t)**2 + cos(t)**3 - 1)*sin(t),        2*sin(t)**2*cos(t) + cos(t)**4, (-cos(t) + 1)*sin(t)*cos(t)],\n",
              "[      (-cos(t) + 2)*sin(t)**2*cos(t), (-2*sin(t)**2 - cos(t)**3 + 1)*sin(t), (sin(t)**2 + cos(t))*cos(t)]])"
            ]
          },
          "metadata": {
            "tags": []
          },
          "execution_count": 4
        }
      ]
    },
    {
      "cell_type": "markdown",
      "metadata": {
        "id": "dp_J4i9_-xQK",
        "colab_type": "text"
      },
      "source": [
        "The result of matrix $$M$$ is $$Mt = \\left[\\begin{matrix}0 & t & 0\\\\t & 0 & 0\\\\0 & 0 & t\\end{matrix}\\right]$$"
      ]
    },
    {
      "cell_type": "markdown",
      "metadata": {
        "id": "5wMQ0SGi5_aP",
        "colab_type": "text"
      },
      "source": [
        "This is the matrix, but two things need to be fixed:\n",
        "\n",
        "$$ \\\\left[\\\\begin{matrix}0 & t & 0\\\\\\\\t & 0 & 0\\\\\\\\0 & 0 & t\\\\end{matrix}\\\\right] $$\n",
        "\n",
        "1)  Replace every \\\\ with a single \\\n",
        "2)  Put some space before the \\ marks, or after the \\\\ marks\n",
        "\n",
        "$$ \\left[ \\begin{matrix}0 & t & 0 \\\\ t & 0 & 0 \\\\ 0 & 0 & t \\end{matrix} \\right] $$\n"
      ]
    },
    {
      "cell_type": "markdown",
      "metadata": {
        "id": "hPTaQg2aHT_L",
        "colab_type": "text"
      },
      "source": [
        "# Executive Summary\n",
        "\n",
        "In this section, your goal is to write a 2 page report giving an overview of the project given above.  This does not mean provide the answers to each question above.  Instead, think of the important relationships between the matrices, the continuous maps, tangent vectors, and transformations that you found above.  Those pieces fit together into one coherent story.\n",
        "\n",
        "In your executive summary, describe that story.  Your executive summary does not need to include complex computations, but it should include the results of relevant computations using math objects like matrices, derivatives, or tangent vectors.\n",
        "\n",
        "At  the end of your executive summary, you should also include two short paragraphs detailing (1) an important or unexpected result, and (2) a challenge you faced in the project and how you dealt with that challenge."
      ]
    },
    {
      "cell_type": "markdown",
      "metadata": {
        "id": "H-jnoC_GlIAS",
        "colab_type": "text"
      },
      "source": [
        "In this project, we analyzed the matrices A, B, and C where: $$A = \\left[\\begin{matrix}0 & -1 & 0\\\\1 & 0 & 0\\\\0 & 0 & 0\\end{matrix}\\right] B =  \\left[\\begin{matrix}0 & 0 & 0\\\\0 & 0 & -1\\\\0 & 1 & 0\\end{matrix}\\right] C =  \\left[\\begin{matrix}0 & 0 & 1\\\\0 & 0 & 0\\\\-1 & 0 & 0\\end{matrix}\\right]$$\n",
        "\n",
        "  The goal is to examine how each matrix interacts with each other and itself when different operations are applied to them. This will help us gain a better understanding of the properties of matrices.\n",
        "\n",
        "  We first looked at what each matrix does to the basis vectors and found that each one sends a different set of values to the origin. A sends all values on the z-axis to the origin, x-axis for B, and y-axis for C.\n",
        "\n",
        "Next, we computed *exp(t M)*, where M is a matrix, for each matrix A,B, and C to get transformation maps in terms of a variable *t*. The maps we found are as follows:\n",
        "$$MapA(t) = \\left[\\begin{matrix}cos(t) & -sin(t) & 0\\\\sin(t) & cos(t) & 0\\\\0 & 0 & 1\\end{matrix}\\right] MapB(t) =  \\left[\\begin{matrix}1 & 0 & 0\\\\0 & cos(t) & -sin(t)\\\\0 & sin(t) & cos(t)\\end{matrix}\\right]$$ $$ MapC(t) =  \\left[\\begin{matrix}cos(t) & 0 & sin(t)\\\\0 & 1 & 0\\\\-sin(t) & 0 & cos(t)\\end{matrix}\\right]$$\n",
        "\n",
        "The first thing we noticed is that each map is a rotation matrix, and they each rotate counter-clockwise around a different axis. MapA rotates around the z-axis, MapB around the x-axis, and MapC around the y-axis. You can easily see this by noticing which coloumn of the map contains the singular 1. This conclusion also lines up with which axis gets sent to the origin from each matrix. Since these are rotation matrices, *t* is the value by which each map will rotate. It can be noted that the rotation of multiplying MapA(t)*MapA(t) is the same as the rotation of MapA(2t), and that property can also be generalized to MapB(t) and MapC(t)\n",
        "\n",
        "We were then asked to create a matrix Q using the maps of A and B. Q was found with:\n",
        "$$ Q = MapB(-t) * MapA(-t) *MapB(t)*MapA(t)$$\n",
        "The resulting matrix Q will rotate by t around the z-axis, then the x-axis, and then it will rotate by -t around the z-axis, then the x-axis. Although it would seem that you would end up in the same place you started with the transformation of Q, that is not the case. \n",
        "\n",
        "Next, we were tasked to find the tangent vectors of each map by taking the derivatives of each map with respect to t when t=0. The tangent vectors of each map ended up being the matrix that was used to create the map, for example, MapA(t)'s tangent vector was the matrix A. This was not the case for Q however. For Q, we took the double derivative and found that its tangent vector was equivalent to the inversion of matrix C or:$$\\left[\\begin{matrix}0 & 0 & -1\\\\0 & 0 & 0\\\\1 & 0 & 0\\end{matrix}\\right]$$ This means that Q rotates around the y-axis, but rotates clock-wise instead of counter-clock wise like all of the other maps.\n",
        "\n",
        "With this information, we can assume that using the same process of multiplication that Q was found with, we could find another Q matrix using any of the two original matrices, and the tangent vector of the new Q would be the last, unused matrix inverted.\n",
        "\n",
        "Finally, we were asked to find the product of [A,B] = AB - BA. The result is:\n",
        "\n",
        "$$\\left[\\begin{matrix}0 & 0 & 1\\\\0 & 0 & 0\\\\-1 & 0 & 0\\end{matrix}\\right]$$\n",
        "which is equivalent to C. Again, the same is true if you find the product of any two of the original matrices in the same way we did here. It will equal the matrix that was not used.\n",
        "\n",
        "An unexpected result that arose was when we calculated Q and it wasn't the identity matrix. Typically, we would expect that by rotating one way and then rotating back would put you back in your original spot, but that wasn't the case. After looking over the transformation of Q, it made more sense that Q wasn't an identity matrix, because it rotated by A(t), then by B(t), then A(-t), and lastly B(-t). Since it rotated back by A(-t) first, it didn't rotate back the same way that it rotated at first. \n",
        "\n",
        "A challenge that I had during this project was not knowing how to code. I have had little to no coding experience coming into this class, so jumping in with coding was difficult, but the cues within the assignment were helpful. Playing around with different things and getting hints were helpful and allowed me to be able to work through it. \n"
      ]
    },
    {
      "cell_type": "markdown",
      "metadata": {
        "id": "eULupgz0rnn1",
        "colab_type": "text"
      },
      "source": [
        "  Matrices have many different characteristics, and in this case, we are looking at how they transform things. We exponentiated the matrices to help us better see the characteristics of them. "
      ]
    }
  ]
}